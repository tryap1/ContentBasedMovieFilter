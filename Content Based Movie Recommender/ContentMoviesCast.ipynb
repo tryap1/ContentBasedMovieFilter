{
 "cells": [
  {
   "cell_type": "code",
   "execution_count": 1,
   "metadata": {},
   "outputs": [],
   "source": [
    "import pandas as pd\n",
    "import numpy as np\n",
    "\n",
    "credits_df = pd.read_csv('tmdb_5000_credits.csv')\n",
    "movies_df = pd.read_csv('tmdb_5000_movies.csv')"
   ]
  },
  {
   "cell_type": "code",
   "execution_count": 2,
   "metadata": {},
   "outputs": [],
   "source": [
    "from sklearn.feature_extraction.text import TfidfVectorizer\n",
    "vectorizer = TfidfVectorizer(stop_words = 'english')"
   ]
  },
  {
   "cell_type": "code",
   "execution_count": 3,
   "metadata": {},
   "outputs": [
    {
     "data": {
      "text/plain": [
       "0"
      ]
     },
     "execution_count": 3,
     "metadata": {},
     "output_type": "execute_result"
    }
   ],
   "source": [
    "movie_cast = credits_df.drop('crew',axis = 1)\n",
    "movie_cast['cast'].isna().sum()"
   ]
  },
  {
   "cell_type": "code",
   "execution_count": 4,
   "metadata": {},
   "outputs": [],
   "source": [
    "cast_matrix = vectorizer.fit_transform(movie_cast['cast'])"
   ]
  },
  {
   "cell_type": "code",
   "execution_count": 5,
   "metadata": {},
   "outputs": [],
   "source": [
    "from sklearn.metrics.pairwise import sigmoid_kernel\n",
    "from sklearn.metrics.pairwise import cosine_similarity\n",
    "sigmoid_cast = sigmoid_kernel(cast_matrix, cast_matrix)\n",
    "cossim_cast = cosine_similarity(cast_matrix,cast_matrix)\n"
   ]
  },
  {
   "cell_type": "code",
   "execution_count": 6,
   "metadata": {},
   "outputs": [],
   "source": [
    "def sig_rec_movie(n, given_movie, sig_matrix = sigmoid_cast):\n",
    "    m_idx =  int(movie_cast[movie_cast['title']== given_movie].index[0])\n",
    "    sims = list(enumerate(sig_matrix[m_idx]))\n",
    "    sims = sorted(sims, key = lambda x:x[1], reverse = True)\n",
    "    movie_num = sims[1:n] #we dont include sims[0] because a given movie will always have highest similarity score with itself\n",
    "    movie_out = []\n",
    "    for i in movie_num:\n",
    "        movie_out.append(movie_cast.iloc[i[0]]['title'])\n",
    "    \n",
    "    return movie_out    "
   ]
  },
  {
   "cell_type": "code",
   "execution_count": 7,
   "metadata": {},
   "outputs": [],
   "source": [
    "def cossim_rec_movie(n, given_movie, cos_matrix = cossim_cast):\n",
    "    m_idx =  int(movie_cast[movie_cast['title']== given_movie].index[0])\n",
    "    sims = list(enumerate(cos_matrix[m_idx]))\n",
    "    sims = sorted(sims, key = lambda x:x[1], reverse = True)\n",
    "    movie_num = sims[1:n]\n",
    "    movie_out = []\n",
    "    for i in movie_num:\n",
    "        movie_out.append(movie_cast.iloc[i[0]]['title'])\n",
    "    return movie_out"
   ]
  },
  {
   "cell_type": "code",
   "execution_count": 9,
   "metadata": {},
   "outputs": [
    {
     "name": "stdout",
     "output_type": "stream",
     "text": [
      "Because you watched Avatar:\n",
      "American Gangster\n",
      "The Dark Knight\n",
      "Spider-Man 3\n",
      "The Life of David Gale\n",
      "Inherent Vice\n",
      "12 Years a Slave\n",
      "Django Unchained\n",
      "The Internship\n",
      "GoodFellas\n",
      "Because you watched Avatar:\n",
      "American Gangster\n",
      "The Dark Knight\n",
      "Spider-Man 3\n",
      "The Life of David Gale\n",
      "Inherent Vice\n",
      "12 Years a Slave\n",
      "Django Unchained\n",
      "The Internship\n",
      "GoodFellas\n"
     ]
    }
   ],
   "source": [
    "given_movie = 'Avatar'\n",
    "n = 10\n",
    "a = sig_rec_movie(n, given_movie)\n",
    "b = cossim_rec_movie(n, given_movie)\n",
    "print(f\"Because you watched {given_movie}:\")\n",
    "for i in range(len(a)):\n",
    "    print(a[i])\n",
    "print(f\"Because you watched {given_movie}:\")\n",
    "for i in range(len(b)):\n",
    "    print(b[i])    "
   ]
  },
  {
   "cell_type": "code",
   "execution_count": null,
   "metadata": {},
   "outputs": [],
   "source": []
  }
 ],
 "metadata": {
  "kernelspec": {
   "display_name": "Python 3",
   "language": "python",
   "name": "python3"
  },
  "language_info": {
   "codemirror_mode": {
    "name": "ipython",
    "version": 3
   },
   "file_extension": ".py",
   "mimetype": "text/x-python",
   "name": "python",
   "nbconvert_exporter": "python",
   "pygments_lexer": "ipython3",
   "version": "3.8.3"
  }
 },
 "nbformat": 4,
 "nbformat_minor": 4
}
